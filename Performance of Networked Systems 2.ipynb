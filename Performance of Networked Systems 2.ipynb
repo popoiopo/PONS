{
 "cells": [
  {
   "cell_type": "markdown",
   "metadata": {},
   "source": [
    "# Dimensioning of cellular networks with video-conferencing services\n",
    "\n",
    "A mobile operator of a cellular GSM network wants to determine how many base stations are needed to\n",
    "satisfy its customers’ Quality of Service (QoS) demands. To this end, the operator wants to determine the\n",
    "maximum size of a cell for which the call-blocking probability is still below some given threshold. Voice\n",
    "telephone calls are generated with rate 10 calls per minute per square kilometer (i.e., km2\n",
    "), and the call\n",
    "duration has an exponential distribution with mean 1.5 minutes. Assume that each voice call requires a\n",
    "single channel to the nearest base station, and that each cell can support only 6 channels in parallel. \n",
    "\n",
    "\n",
    "To make a proper decision on the number of base stations to be placed to offer good quality to its\n",
    "customers, the operator wants to understand the impact of the cell size (in km2\n",
    ") on the call-blocking\n",
    "probability. \n"
   ]
  },
  {
   "cell_type": "markdown",
   "metadata": {},
   "source": [
    "## Formulate a simple model description for the problem."
   ]
  },
  {
   "cell_type": "markdown",
   "metadata": {},
   "source": [
    "When describing a model we can use Kendall's shorthand notation to characterize queueing models. This notation consists of three different aspects, and one extra:\n",
    "\n",
    "1. Interarrival time distribution\n",
    "2. Service time distribution\n",
    "3. Number of servers\n",
    "4. Possible queueing capacity (which is 0 because there is blocking instead of queueing)\n",
    "\n",
    "For the first two aspects we can use three letters:\n",
    "\n",
    "* G: General distribution\n",
    "* M: Exponential distribution (also called memoyless or Makov)\n",
    "* D: Deterministic\n",
    "\n",
    "Acording to this discription of Kendall's shorthand notation we can describe the model in this assignment to be of the M/M/6/0 variety, because both the interarrival times and the service time have a memoryless property."
   ]
  },
  {
   "cell_type": "markdown",
   "metadata": {},
   "source": [
    "## Give a formula for the call blocking probability in terms of the model parameters."
   ]
  },
  {
   "cell_type": "markdown",
   "metadata": {},
   "source": [
    "### The \"Erlang-B formula\"\n",
    "\n",
    "The Erlang-B formula is used for calculating the blocking probability that describes the probability of losing calls for a group of identical parallel resources (also known as M/M/c/c queue). The formula is given below: \n",
    "\n",
    "<img src=\"image.png\" width=\"50%\">\n",
    "\n",
    "The formula does make a few assumptions:\n",
    "\n",
    "*  It assumes a Poisson process for the arival instances, so that they are independent. \n",
    "*  The holding (waiting) times are exponentially distributed.\n",
    "*  The formula assumes an infinite population of sources (e.g. phonecalls).\n",
    "*  The arrival rate (lambda) is constant.\n",
    "*  The arrival rate is independent of the number of active sources.\n",
    "*  Number of resources are assumed to be infinite.\n",
    "*  No denied request will be kept (buffer-less loss system). So there are no queues.\n",
    "\n",
    "### Parameters\n",
    "\n",
    "#### Lamda (&#955;) is the rate per minute per square kilometer\n",
    "lamda = 10\n",
    "\n",
    "#### Beta (&#946;) is the exponential distribution with mean 1.5 minutes\n",
    "beta = 1.5\n",
    "\n",
    "#### Amount of channels in parallel (N)\n",
    "N = 6\n"
   ]
  },
  {
   "cell_type": "markdown",
   "metadata": {},
   "source": [
    "## Write your own ‘Erlang-B calculator” and calculate the blocking probability for cell sizes 0.5 km2, 1km2 and 2 km2."
   ]
  },
  {
   "cell_type": "code",
   "execution_count": 11,
   "metadata": {},
   "outputs": [
    {
     "data": {
      "text/html": [
       "\n",
       "    <div class=\"bk-root\">\n",
       "        <a href=\"https://bokeh.pydata.org\" target=\"_blank\" class=\"bk-logo bk-logo-small bk-logo-notebook\"></a>\n",
       "        <span id=\"0eb16be4-03ba-40b3-8600-56f1eb9f0e4b\">Loading BokehJS ...</span>\n",
       "    </div>"
      ]
     },
     "metadata": {},
     "output_type": "display_data"
    },
    {
     "data": {
      "application/javascript": [
       "\n",
       "(function(root) {\n",
       "  function now() {\n",
       "    return new Date();\n",
       "  }\n",
       "\n",
       "  var force = true;\n",
       "\n",
       "  if (typeof (root._bokeh_onload_callbacks) === \"undefined\" || force === true) {\n",
       "    root._bokeh_onload_callbacks = [];\n",
       "    root._bokeh_is_loading = undefined;\n",
       "  }\n",
       "\n",
       "  var JS_MIME_TYPE = 'application/javascript';\n",
       "  var HTML_MIME_TYPE = 'text/html';\n",
       "  var EXEC_MIME_TYPE = 'application/vnd.bokehjs_exec.v0+json';\n",
       "  var CLASS_NAME = 'output_bokeh rendered_html';\n",
       "\n",
       "  /**\n",
       "   * Render data to the DOM node\n",
       "   */\n",
       "  function render(props, node) {\n",
       "    var script = document.createElement(\"script\");\n",
       "    node.appendChild(script);\n",
       "  }\n",
       "\n",
       "  /**\n",
       "   * Handle when an output is cleared or removed\n",
       "   */\n",
       "  function handleClearOutput(event, handle) {\n",
       "    var cell = handle.cell;\n",
       "\n",
       "    var id = cell.output_area._bokeh_element_id;\n",
       "    var server_id = cell.output_area._bokeh_server_id;\n",
       "    // Clean up Bokeh references\n",
       "    if (id !== undefined) {\n",
       "      Bokeh.index[id].model.document.clear();\n",
       "      delete Bokeh.index[id];\n",
       "    }\n",
       "\n",
       "    if (server_id !== undefined) {\n",
       "      // Clean up Bokeh references\n",
       "      var cmd = \"from bokeh.io.state import curstate; print(curstate().uuid_to_server['\" + server_id + \"'].get_sessions()[0].document.roots[0]._id)\";\n",
       "      cell.notebook.kernel.execute(cmd, {\n",
       "        iopub: {\n",
       "          output: function(msg) {\n",
       "            var element_id = msg.content.text.trim();\n",
       "            Bokeh.index[element_id].model.document.clear();\n",
       "            delete Bokeh.index[element_id];\n",
       "          }\n",
       "        }\n",
       "      });\n",
       "      // Destroy server and session\n",
       "      var cmd = \"import bokeh.io.notebook as ion; ion.destroy_server('\" + server_id + \"')\";\n",
       "      cell.notebook.kernel.execute(cmd);\n",
       "    }\n",
       "  }\n",
       "\n",
       "  /**\n",
       "   * Handle when a new output is added\n",
       "   */\n",
       "  function handleAddOutput(event, handle) {\n",
       "    var output_area = handle.output_area;\n",
       "    var output = handle.output;\n",
       "\n",
       "    // limit handleAddOutput to display_data with EXEC_MIME_TYPE content only\n",
       "    if ((output.output_type != \"display_data\") || (!output.data.hasOwnProperty(EXEC_MIME_TYPE))) {\n",
       "      return\n",
       "    }\n",
       "\n",
       "    var toinsert = output_area.element.find(\".\" + CLASS_NAME.split(' ')[0]);\n",
       "\n",
       "    if (output.metadata[EXEC_MIME_TYPE][\"id\"] !== undefined) {\n",
       "      toinsert[0].firstChild.textContent = output.data[JS_MIME_TYPE];\n",
       "      // store reference to embed id on output_area\n",
       "      output_area._bokeh_element_id = output.metadata[EXEC_MIME_TYPE][\"id\"];\n",
       "    }\n",
       "    if (output.metadata[EXEC_MIME_TYPE][\"server_id\"] !== undefined) {\n",
       "      var bk_div = document.createElement(\"div\");\n",
       "      bk_div.innerHTML = output.data[HTML_MIME_TYPE];\n",
       "      var script_attrs = bk_div.children[0].attributes;\n",
       "      for (var i = 0; i < script_attrs.length; i++) {\n",
       "        toinsert[0].firstChild.setAttribute(script_attrs[i].name, script_attrs[i].value);\n",
       "      }\n",
       "      // store reference to server id on output_area\n",
       "      output_area._bokeh_server_id = output.metadata[EXEC_MIME_TYPE][\"server_id\"];\n",
       "    }\n",
       "  }\n",
       "\n",
       "  function register_renderer(events, OutputArea) {\n",
       "\n",
       "    function append_mime(data, metadata, element) {\n",
       "      // create a DOM node to render to\n",
       "      var toinsert = this.create_output_subarea(\n",
       "        metadata,\n",
       "        CLASS_NAME,\n",
       "        EXEC_MIME_TYPE\n",
       "      );\n",
       "      this.keyboard_manager.register_events(toinsert);\n",
       "      // Render to node\n",
       "      var props = {data: data, metadata: metadata[EXEC_MIME_TYPE]};\n",
       "      render(props, toinsert[0]);\n",
       "      element.append(toinsert);\n",
       "      return toinsert\n",
       "    }\n",
       "\n",
       "    /* Handle when an output is cleared or removed */\n",
       "    events.on('clear_output.CodeCell', handleClearOutput);\n",
       "    events.on('delete.Cell', handleClearOutput);\n",
       "\n",
       "    /* Handle when a new output is added */\n",
       "    events.on('output_added.OutputArea', handleAddOutput);\n",
       "\n",
       "    /**\n",
       "     * Register the mime type and append_mime function with output_area\n",
       "     */\n",
       "    OutputArea.prototype.register_mime_type(EXEC_MIME_TYPE, append_mime, {\n",
       "      /* Is output safe? */\n",
       "      safe: true,\n",
       "      /* Index of renderer in `output_area.display_order` */\n",
       "      index: 0\n",
       "    });\n",
       "  }\n",
       "\n",
       "  // register the mime type if in Jupyter Notebook environment and previously unregistered\n",
       "  if (root.Jupyter !== undefined) {\n",
       "    var events = require('base/js/events');\n",
       "    var OutputArea = require('notebook/js/outputarea').OutputArea;\n",
       "\n",
       "    if (OutputArea.prototype.mime_types().indexOf(EXEC_MIME_TYPE) == -1) {\n",
       "      register_renderer(events, OutputArea);\n",
       "    }\n",
       "  }\n",
       "\n",
       "  \n",
       "  if (typeof (root._bokeh_timeout) === \"undefined\" || force === true) {\n",
       "    root._bokeh_timeout = Date.now() + 5000;\n",
       "    root._bokeh_failed_load = false;\n",
       "  }\n",
       "\n",
       "  var NB_LOAD_WARNING = {'data': {'text/html':\n",
       "     \"<div style='background-color: #fdd'>\\n\"+\n",
       "     \"<p>\\n\"+\n",
       "     \"BokehJS does not appear to have successfully loaded. If loading BokehJS from CDN, this \\n\"+\n",
       "     \"may be due to a slow or bad network connection. Possible fixes:\\n\"+\n",
       "     \"</p>\\n\"+\n",
       "     \"<ul>\\n\"+\n",
       "     \"<li>re-rerun `output_notebook()` to attempt to load from CDN again, or</li>\\n\"+\n",
       "     \"<li>use INLINE resources instead, as so:</li>\\n\"+\n",
       "     \"</ul>\\n\"+\n",
       "     \"<code>\\n\"+\n",
       "     \"from bokeh.resources import INLINE\\n\"+\n",
       "     \"output_notebook(resources=INLINE)\\n\"+\n",
       "     \"</code>\\n\"+\n",
       "     \"</div>\"}};\n",
       "\n",
       "  function display_loaded() {\n",
       "    var el = document.getElementById(\"0eb16be4-03ba-40b3-8600-56f1eb9f0e4b\");\n",
       "    if (el != null) {\n",
       "      el.textContent = \"BokehJS is loading...\";\n",
       "    }\n",
       "    if (root.Bokeh !== undefined) {\n",
       "      if (el != null) {\n",
       "        el.textContent = \"BokehJS \" + root.Bokeh.version + \" successfully loaded.\";\n",
       "      }\n",
       "    } else if (Date.now() < root._bokeh_timeout) {\n",
       "      setTimeout(display_loaded, 100)\n",
       "    }\n",
       "  }\n",
       "\n",
       "\n",
       "  function run_callbacks() {\n",
       "    try {\n",
       "      root._bokeh_onload_callbacks.forEach(function(callback) { callback() });\n",
       "    }\n",
       "    finally {\n",
       "      delete root._bokeh_onload_callbacks\n",
       "    }\n",
       "    console.info(\"Bokeh: all callbacks have finished\");\n",
       "  }\n",
       "\n",
       "  function load_libs(js_urls, callback) {\n",
       "    root._bokeh_onload_callbacks.push(callback);\n",
       "    if (root._bokeh_is_loading > 0) {\n",
       "      console.log(\"Bokeh: BokehJS is being loaded, scheduling callback at\", now());\n",
       "      return null;\n",
       "    }\n",
       "    if (js_urls == null || js_urls.length === 0) {\n",
       "      run_callbacks();\n",
       "      return null;\n",
       "    }\n",
       "    console.log(\"Bokeh: BokehJS not loaded, scheduling load and callback at\", now());\n",
       "    root._bokeh_is_loading = js_urls.length;\n",
       "    for (var i = 0; i < js_urls.length; i++) {\n",
       "      var url = js_urls[i];\n",
       "      var s = document.createElement('script');\n",
       "      s.src = url;\n",
       "      s.async = false;\n",
       "      s.onreadystatechange = s.onload = function() {\n",
       "        root._bokeh_is_loading--;\n",
       "        if (root._bokeh_is_loading === 0) {\n",
       "          console.log(\"Bokeh: all BokehJS libraries loaded\");\n",
       "          run_callbacks()\n",
       "        }\n",
       "      };\n",
       "      s.onerror = function() {\n",
       "        console.warn(\"failed to load library \" + url);\n",
       "      };\n",
       "      console.log(\"Bokeh: injecting script tag for BokehJS library: \", url);\n",
       "      document.getElementsByTagName(\"head\")[0].appendChild(s);\n",
       "    }\n",
       "  };var element = document.getElementById(\"0eb16be4-03ba-40b3-8600-56f1eb9f0e4b\");\n",
       "  if (element == null) {\n",
       "    console.log(\"Bokeh: ERROR: autoload.js configured with elementid '0eb16be4-03ba-40b3-8600-56f1eb9f0e4b' but no matching script tag was found. \")\n",
       "    return false;\n",
       "  }\n",
       "\n",
       "  var js_urls = [\"https://cdn.pydata.org/bokeh/release/bokeh-0.12.14.min.js\", \"https://cdn.pydata.org/bokeh/release/bokeh-widgets-0.12.14.min.js\", \"https://cdn.pydata.org/bokeh/release/bokeh-tables-0.12.14.min.js\", \"https://cdn.pydata.org/bokeh/release/bokeh-gl-0.12.14.min.js\"];\n",
       "\n",
       "  var inline_js = [\n",
       "    function(Bokeh) {\n",
       "      Bokeh.set_log_level(\"info\");\n",
       "    },\n",
       "    \n",
       "    function(Bokeh) {\n",
       "      \n",
       "    },\n",
       "    function(Bokeh) {\n",
       "      console.log(\"Bokeh: injecting CSS: https://cdn.pydata.org/bokeh/release/bokeh-0.12.14.min.css\");\n",
       "      Bokeh.embed.inject_css(\"https://cdn.pydata.org/bokeh/release/bokeh-0.12.14.min.css\");\n",
       "      console.log(\"Bokeh: injecting CSS: https://cdn.pydata.org/bokeh/release/bokeh-widgets-0.12.14.min.css\");\n",
       "      Bokeh.embed.inject_css(\"https://cdn.pydata.org/bokeh/release/bokeh-widgets-0.12.14.min.css\");\n",
       "      console.log(\"Bokeh: injecting CSS: https://cdn.pydata.org/bokeh/release/bokeh-tables-0.12.14.min.css\");\n",
       "      Bokeh.embed.inject_css(\"https://cdn.pydata.org/bokeh/release/bokeh-tables-0.12.14.min.css\");\n",
       "    }\n",
       "  ];\n",
       "\n",
       "  function run_inline_js() {\n",
       "    \n",
       "    if ((root.Bokeh !== undefined) || (force === true)) {\n",
       "      for (var i = 0; i < inline_js.length; i++) {\n",
       "        inline_js[i].call(root, root.Bokeh);\n",
       "      }if (force === true) {\n",
       "        display_loaded();\n",
       "      }} else if (Date.now() < root._bokeh_timeout) {\n",
       "      setTimeout(run_inline_js, 100);\n",
       "    } else if (!root._bokeh_failed_load) {\n",
       "      console.log(\"Bokeh: BokehJS failed to load within specified timeout.\");\n",
       "      root._bokeh_failed_load = true;\n",
       "    } else if (force !== true) {\n",
       "      var cell = $(document.getElementById(\"0eb16be4-03ba-40b3-8600-56f1eb9f0e4b\")).parents('.cell').data().cell;\n",
       "      cell.output_area.append_execute_result(NB_LOAD_WARNING)\n",
       "    }\n",
       "\n",
       "  }\n",
       "\n",
       "  if (root._bokeh_is_loading === 0) {\n",
       "    console.log(\"Bokeh: BokehJS loaded, going straight to plotting\");\n",
       "    run_inline_js();\n",
       "  } else {\n",
       "    load_libs(js_urls, function() {\n",
       "      console.log(\"Bokeh: BokehJS plotting callback run at\", now());\n",
       "      run_inline_js();\n",
       "    });\n",
       "  }\n",
       "}(window));"
      ],
      "application/vnd.bokehjs_load.v0+json": "\n(function(root) {\n  function now() {\n    return new Date();\n  }\n\n  var force = true;\n\n  if (typeof (root._bokeh_onload_callbacks) === \"undefined\" || force === true) {\n    root._bokeh_onload_callbacks = [];\n    root._bokeh_is_loading = undefined;\n  }\n\n  \n\n  \n  if (typeof (root._bokeh_timeout) === \"undefined\" || force === true) {\n    root._bokeh_timeout = Date.now() + 5000;\n    root._bokeh_failed_load = false;\n  }\n\n  var NB_LOAD_WARNING = {'data': {'text/html':\n     \"<div style='background-color: #fdd'>\\n\"+\n     \"<p>\\n\"+\n     \"BokehJS does not appear to have successfully loaded. If loading BokehJS from CDN, this \\n\"+\n     \"may be due to a slow or bad network connection. Possible fixes:\\n\"+\n     \"</p>\\n\"+\n     \"<ul>\\n\"+\n     \"<li>re-rerun `output_notebook()` to attempt to load from CDN again, or</li>\\n\"+\n     \"<li>use INLINE resources instead, as so:</li>\\n\"+\n     \"</ul>\\n\"+\n     \"<code>\\n\"+\n     \"from bokeh.resources import INLINE\\n\"+\n     \"output_notebook(resources=INLINE)\\n\"+\n     \"</code>\\n\"+\n     \"</div>\"}};\n\n  function display_loaded() {\n    var el = document.getElementById(\"0eb16be4-03ba-40b3-8600-56f1eb9f0e4b\");\n    if (el != null) {\n      el.textContent = \"BokehJS is loading...\";\n    }\n    if (root.Bokeh !== undefined) {\n      if (el != null) {\n        el.textContent = \"BokehJS \" + root.Bokeh.version + \" successfully loaded.\";\n      }\n    } else if (Date.now() < root._bokeh_timeout) {\n      setTimeout(display_loaded, 100)\n    }\n  }\n\n\n  function run_callbacks() {\n    try {\n      root._bokeh_onload_callbacks.forEach(function(callback) { callback() });\n    }\n    finally {\n      delete root._bokeh_onload_callbacks\n    }\n    console.info(\"Bokeh: all callbacks have finished\");\n  }\n\n  function load_libs(js_urls, callback) {\n    root._bokeh_onload_callbacks.push(callback);\n    if (root._bokeh_is_loading > 0) {\n      console.log(\"Bokeh: BokehJS is being loaded, scheduling callback at\", now());\n      return null;\n    }\n    if (js_urls == null || js_urls.length === 0) {\n      run_callbacks();\n      return null;\n    }\n    console.log(\"Bokeh: BokehJS not loaded, scheduling load and callback at\", now());\n    root._bokeh_is_loading = js_urls.length;\n    for (var i = 0; i < js_urls.length; i++) {\n      var url = js_urls[i];\n      var s = document.createElement('script');\n      s.src = url;\n      s.async = false;\n      s.onreadystatechange = s.onload = function() {\n        root._bokeh_is_loading--;\n        if (root._bokeh_is_loading === 0) {\n          console.log(\"Bokeh: all BokehJS libraries loaded\");\n          run_callbacks()\n        }\n      };\n      s.onerror = function() {\n        console.warn(\"failed to load library \" + url);\n      };\n      console.log(\"Bokeh: injecting script tag for BokehJS library: \", url);\n      document.getElementsByTagName(\"head\")[0].appendChild(s);\n    }\n  };var element = document.getElementById(\"0eb16be4-03ba-40b3-8600-56f1eb9f0e4b\");\n  if (element == null) {\n    console.log(\"Bokeh: ERROR: autoload.js configured with elementid '0eb16be4-03ba-40b3-8600-56f1eb9f0e4b' but no matching script tag was found. \")\n    return false;\n  }\n\n  var js_urls = [\"https://cdn.pydata.org/bokeh/release/bokeh-0.12.14.min.js\", \"https://cdn.pydata.org/bokeh/release/bokeh-widgets-0.12.14.min.js\", \"https://cdn.pydata.org/bokeh/release/bokeh-tables-0.12.14.min.js\", \"https://cdn.pydata.org/bokeh/release/bokeh-gl-0.12.14.min.js\"];\n\n  var inline_js = [\n    function(Bokeh) {\n      Bokeh.set_log_level(\"info\");\n    },\n    \n    function(Bokeh) {\n      \n    },\n    function(Bokeh) {\n      console.log(\"Bokeh: injecting CSS: https://cdn.pydata.org/bokeh/release/bokeh-0.12.14.min.css\");\n      Bokeh.embed.inject_css(\"https://cdn.pydata.org/bokeh/release/bokeh-0.12.14.min.css\");\n      console.log(\"Bokeh: injecting CSS: https://cdn.pydata.org/bokeh/release/bokeh-widgets-0.12.14.min.css\");\n      Bokeh.embed.inject_css(\"https://cdn.pydata.org/bokeh/release/bokeh-widgets-0.12.14.min.css\");\n      console.log(\"Bokeh: injecting CSS: https://cdn.pydata.org/bokeh/release/bokeh-tables-0.12.14.min.css\");\n      Bokeh.embed.inject_css(\"https://cdn.pydata.org/bokeh/release/bokeh-tables-0.12.14.min.css\");\n    }\n  ];\n\n  function run_inline_js() {\n    \n    if ((root.Bokeh !== undefined) || (force === true)) {\n      for (var i = 0; i < inline_js.length; i++) {\n        inline_js[i].call(root, root.Bokeh);\n      }if (force === true) {\n        display_loaded();\n      }} else if (Date.now() < root._bokeh_timeout) {\n      setTimeout(run_inline_js, 100);\n    } else if (!root._bokeh_failed_load) {\n      console.log(\"Bokeh: BokehJS failed to load within specified timeout.\");\n      root._bokeh_failed_load = true;\n    } else if (force !== true) {\n      var cell = $(document.getElementById(\"0eb16be4-03ba-40b3-8600-56f1eb9f0e4b\")).parents('.cell').data().cell;\n      cell.output_area.append_execute_result(NB_LOAD_WARNING)\n    }\n\n  }\n\n  if (root._bokeh_is_loading === 0) {\n    console.log(\"Bokeh: BokehJS loaded, going straight to plotting\");\n    run_inline_js();\n  } else {\n    load_libs(js_urls, function() {\n      console.log(\"Bokeh: BokehJS plotting callback run at\", now());\n      run_inline_js();\n    });\n  }\n}(window));"
     },
     "metadata": {},
     "output_type": "display_data"
    }
   ],
   "source": [
    "from ipywidgets import interact\n",
    "import numpy as np\n",
    "import math\n",
    "\n",
    "from bokeh.io import push_notebook, show, output_notebook\n",
    "from bokeh.plotting import figure\n",
    "from bokeh.models import ColumnDataSource, HoverTool, LassoSelectTool, WheelZoomTool\n",
    "from bokeh.palettes import Spectral3\n",
    "\n",
    "output_notebook()"
   ]
  },
  {
   "cell_type": "code",
   "execution_count": 12,
   "metadata": {},
   "outputs": [],
   "source": [
    "# Calculate upper part of Erlang-B formula\n",
    "def bp_calc(lamda, beta, N):\n",
    "    bp = (lamda * beta) ** N / math.factorial(N)\n",
    "    return bp\n",
    "\n",
    "# Calculate Markov chain\n",
    "def erlang_B(lamda, beta, N):\n",
    "    bp1 = bp_calc(lamda, beta, N)\n",
    "    bp2 = 1\n",
    "    \n",
    "    for i in range(N):\n",
    "        bp2 += bp_calc(lamda, beta, i + 1)\n",
    "        \n",
    "    return bp1 / bp2"
   ]
  },
  {
   "cell_type": "code",
   "execution_count": 13,
   "metadata": {},
   "outputs": [],
   "source": [
    "# Initializa data\n",
    "data_x = ['0.5 km2','1 km2','2 km2']\n",
    "data_y = []\n",
    "\n",
    "# Initialize variable\n",
    "datapoints = [0.5,1,2]\n",
    "lamda = 10\n",
    "beta = 1.5\n",
    "\n",
    "# Fill data\n",
    "for i in datapoints:\n",
    "    data_y.append(erlang_B(lamda * i, beta, 6))\n"
   ]
  },
  {
   "cell_type": "code",
   "execution_count": 14,
   "metadata": {},
   "outputs": [],
   "source": [
    "# Setting data in right format\n",
    "source = ColumnDataSource(data=dict(x_axis=data_x, \n",
    "                                    y_axis=data_y, \n",
    "                                    color=Spectral3))\n",
    "\n",
    "# Creating tooltip\n",
    "hover = HoverTool(tooltips=[\n",
    "    (\"Cell Size\", \"@x_axis\"),\n",
    "    (\"Blocking Probability\", \"@y_axis\"),\n",
    "])\n",
    "\n",
    "# Create figure\n",
    "p = figure(x_range=data_x, y_range=(0,(max(data_y) + (max(data_y) / 10))), \n",
    "           plot_height=350, title=\"Erlang Blocking Calculator\",\n",
    "           tools=[hover,LassoSelectTool(), WheelZoomTool()])\n",
    "\n",
    "# Create bars\n",
    "p.vbar(x='x_axis', top='y_axis', width=0.9, color='color', \n",
    "       legend=\"x_axis\", source=source)\n",
    "\n",
    "# Colors and legend\n",
    "p.xgrid.grid_line_color = None\n",
    "p.legend.orientation = \"horizontal\"\n",
    "p.legend.location = \"top_center\""
   ]
  },
  {
   "cell_type": "code",
   "execution_count": 15,
   "metadata": {
    "scrolled": true
   },
   "outputs": [
    {
     "data": {
      "text/html": [
       "\n",
       "<div class=\"bk-root\">\n",
       "    <div class=\"bk-plotdiv\" id=\"63f50654-7fb0-4fd6-9185-0a193990c593\"></div>\n",
       "</div>"
      ]
     },
     "metadata": {},
     "output_type": "display_data"
    },
    {
     "data": {
      "application/javascript": [
       "(function(root) {\n",
       "  function embed_document(root) {\n",
       "    \n",
       "  var docs_json = {\"2a7c31ee-f5f9-40d6-84a5-d8ac8188b1b5\":{\"roots\":{\"references\":[{\"attributes\":{},\"id\":\"e36fd321-4c8d-4d17-b05d-476afdab63f2\",\"type\":\"CategoricalScale\"},{\"attributes\":{\"grid_line_color\":{\"value\":null},\"plot\":{\"id\":\"acf332fa-86bb-4d58-8b62-810b448294c1\",\"subtype\":\"Figure\",\"type\":\"Plot\"},\"ticker\":{\"id\":\"db81b24d-74ba-434c-8109-6587ec2e1e69\",\"type\":\"CategoricalTicker\"}},\"id\":\"cdc7190e-7f7f-4999-acd9-9bd015fbd217\",\"type\":\"Grid\"},{\"attributes\":{\"formatter\":{\"id\":\"9acf3101-e5ad-46e2-86e3-6a8c050c8e91\",\"type\":\"CategoricalTickFormatter\"},\"plot\":{\"id\":\"acf332fa-86bb-4d58-8b62-810b448294c1\",\"subtype\":\"Figure\",\"type\":\"Plot\"},\"ticker\":{\"id\":\"db81b24d-74ba-434c-8109-6587ec2e1e69\",\"type\":\"CategoricalTicker\"}},\"id\":\"23edce7b-695c-424e-877f-2f164ad14918\",\"type\":\"CategoricalAxis\"},{\"attributes\":{\"dimension\":1,\"plot\":{\"id\":\"acf332fa-86bb-4d58-8b62-810b448294c1\",\"subtype\":\"Figure\",\"type\":\"Plot\"},\"ticker\":{\"id\":\"c4eb4cbe-0d5e-45eb-be99-474da898120d\",\"type\":\"BasicTicker\"}},\"id\":\"fb58f35d-8ce3-4cad-ae31-104de44cfc2c\",\"type\":\"Grid\"},{\"attributes\":{},\"id\":\"9acf3101-e5ad-46e2-86e3-6a8c050c8e91\",\"type\":\"CategoricalTickFormatter\"},{\"attributes\":{\"fill_alpha\":{\"value\":0.5},\"fill_color\":{\"value\":\"lightgrey\"},\"level\":\"overlay\",\"line_alpha\":{\"value\":1.0},\"line_color\":{\"value\":\"black\"},\"line_dash\":[4,4],\"line_width\":{\"value\":2},\"plot\":null,\"xs_units\":\"screen\",\"ys_units\":\"screen\"},\"id\":\"0f9cc564-f0da-4cbc-8cf3-2dd404dd3947\",\"type\":\"PolyAnnotation\"},{\"attributes\":{\"label\":{\"field\":\"x_axis\"},\"renderers\":[{\"id\":\"52831e36-cee8-4f92-a281-500c9bf7c98c\",\"type\":\"GlyphRenderer\"}]},\"id\":\"fcf6c8a1-a952-40f9-a582-d1c4b0655982\",\"type\":\"LegendItem\"},{\"attributes\":{\"fill_color\":{\"field\":\"color\"},\"line_color\":{\"field\":\"color\"},\"top\":{\"field\":\"y_axis\"},\"width\":{\"value\":0.9},\"x\":{\"field\":\"x_axis\"}},\"id\":\"305135d9-3b6e-4b95-8e6d-f8dc14d59394\",\"type\":\"VBar\"},{\"attributes\":{\"items\":[{\"id\":\"fcf6c8a1-a952-40f9-a582-d1c4b0655982\",\"type\":\"LegendItem\"}],\"location\":\"top_center\",\"orientation\":\"horizontal\",\"plot\":{\"id\":\"acf332fa-86bb-4d58-8b62-810b448294c1\",\"subtype\":\"Figure\",\"type\":\"Plot\"}},\"id\":\"3db6b9ad-6b1b-4a6f-b491-b473ea89a552\",\"type\":\"Legend\"},{\"attributes\":{\"callback\":null,\"overlay\":{\"id\":\"0f9cc564-f0da-4cbc-8cf3-2dd404dd3947\",\"type\":\"PolyAnnotation\"}},\"id\":\"cb732015-65a5-4777-8587-3dd79aea5764\",\"type\":\"LassoSelectTool\"},{\"attributes\":{\"callback\":null,\"column_names\":[\"x_axis\",\"y_axis\",\"color\"],\"data\":{\"color\":[\"#99d594\",\"#ffffbf\",\"#fc8d59\"],\"x_axis\":[\"0.5 km2\",\"1 km2\",\"2 km2\"],\"y_axis\":[0.36154051610488924,0.6341108419488903,0.807589506839984]}},\"id\":\"bb923ac7-c6ac-4c04-a7d6-c3191fe0175d\",\"type\":\"ColumnDataSource\"},{\"attributes\":{\"fill_alpha\":{\"value\":0.1},\"fill_color\":{\"value\":\"#1f77b4\"},\"line_alpha\":{\"value\":0.1},\"line_color\":{\"value\":\"#1f77b4\"},\"top\":{\"field\":\"y_axis\"},\"width\":{\"value\":0.9},\"x\":{\"field\":\"x_axis\"}},\"id\":\"bc5fc85f-cbf2-4f20-8a47-27d86e952b24\",\"type\":\"VBar\"},{\"attributes\":{\"callback\":null,\"tooltips\":[[\"Cell Size\",\"@x_axis\"],[\"Blocking Probability\",\"@y_axis\"]]},\"id\":\"5672a549-1a1d-4a29-9cca-cedbd72399a8\",\"type\":\"HoverTool\"},{\"attributes\":{},\"id\":\"6aeb34d0-f17e-409c-9c53-1628bde26e33\",\"type\":\"WheelZoomTool\"},{\"attributes\":{},\"id\":\"33c2f4ed-48a7-4161-9853-59cde0710e2d\",\"type\":\"LinearScale\"},{\"attributes\":{\"source\":{\"id\":\"bb923ac7-c6ac-4c04-a7d6-c3191fe0175d\",\"type\":\"ColumnDataSource\"}},\"id\":\"1a91456f-4eff-46e5-bf58-af80d3fee4ce\",\"type\":\"CDSView\"},{\"attributes\":{},\"id\":\"325eac62-1b0c-4a14-8411-38aaa479ddb5\",\"type\":\"BasicTickFormatter\"},{\"attributes\":{\"below\":[{\"id\":\"23edce7b-695c-424e-877f-2f164ad14918\",\"type\":\"CategoricalAxis\"}],\"left\":[{\"id\":\"96762239-13fa-404a-9a92-ed91053f4922\",\"type\":\"LinearAxis\"}],\"plot_height\":350,\"renderers\":[{\"id\":\"23edce7b-695c-424e-877f-2f164ad14918\",\"type\":\"CategoricalAxis\"},{\"id\":\"cdc7190e-7f7f-4999-acd9-9bd015fbd217\",\"type\":\"Grid\"},{\"id\":\"96762239-13fa-404a-9a92-ed91053f4922\",\"type\":\"LinearAxis\"},{\"id\":\"fb58f35d-8ce3-4cad-ae31-104de44cfc2c\",\"type\":\"Grid\"},{\"id\":\"0f9cc564-f0da-4cbc-8cf3-2dd404dd3947\",\"type\":\"PolyAnnotation\"},{\"id\":\"3db6b9ad-6b1b-4a6f-b491-b473ea89a552\",\"type\":\"Legend\"},{\"id\":\"52831e36-cee8-4f92-a281-500c9bf7c98c\",\"type\":\"GlyphRenderer\"}],\"title\":{\"id\":\"d1f78296-73f2-4c00-8d36-8c22c8b23224\",\"type\":\"Title\"},\"toolbar\":{\"id\":\"fb9b4081-4ff5-4f61-8d39-583c3890532e\",\"type\":\"Toolbar\"},\"x_range\":{\"id\":\"1b39e97e-96d4-449b-b877-919b5cace8e8\",\"type\":\"FactorRange\"},\"x_scale\":{\"id\":\"e36fd321-4c8d-4d17-b05d-476afdab63f2\",\"type\":\"CategoricalScale\"},\"y_range\":{\"id\":\"b093b2f5-59ed-4f10-bd76-4c2d89455aaa\",\"type\":\"Range1d\"},\"y_scale\":{\"id\":\"33c2f4ed-48a7-4161-9853-59cde0710e2d\",\"type\":\"LinearScale\"}},\"id\":\"acf332fa-86bb-4d58-8b62-810b448294c1\",\"subtype\":\"Figure\",\"type\":\"Plot\"},{\"attributes\":{\"data_source\":{\"id\":\"bb923ac7-c6ac-4c04-a7d6-c3191fe0175d\",\"type\":\"ColumnDataSource\"},\"glyph\":{\"id\":\"305135d9-3b6e-4b95-8e6d-f8dc14d59394\",\"type\":\"VBar\"},\"hover_glyph\":null,\"muted_glyph\":null,\"nonselection_glyph\":{\"id\":\"bc5fc85f-cbf2-4f20-8a47-27d86e952b24\",\"type\":\"VBar\"},\"selection_glyph\":null,\"view\":{\"id\":\"1a91456f-4eff-46e5-bf58-af80d3fee4ce\",\"type\":\"CDSView\"}},\"id\":\"52831e36-cee8-4f92-a281-500c9bf7c98c\",\"type\":\"GlyphRenderer\"},{\"attributes\":{\"plot\":null,\"text\":\"Erlang Blocking Calculator\"},\"id\":\"d1f78296-73f2-4c00-8d36-8c22c8b23224\",\"type\":\"Title\"},{\"attributes\":{},\"id\":\"db81b24d-74ba-434c-8109-6587ec2e1e69\",\"type\":\"CategoricalTicker\"},{\"attributes\":{},\"id\":\"c4eb4cbe-0d5e-45eb-be99-474da898120d\",\"type\":\"BasicTicker\"},{\"attributes\":{\"callback\":null,\"factors\":[\"0.5 km2\",\"1 km2\",\"2 km2\"]},\"id\":\"1b39e97e-96d4-449b-b877-919b5cace8e8\",\"type\":\"FactorRange\"},{\"attributes\":{\"active_drag\":\"auto\",\"active_inspect\":\"auto\",\"active_scroll\":\"auto\",\"active_tap\":\"auto\",\"tools\":[{\"id\":\"5672a549-1a1d-4a29-9cca-cedbd72399a8\",\"type\":\"HoverTool\"},{\"id\":\"cb732015-65a5-4777-8587-3dd79aea5764\",\"type\":\"LassoSelectTool\"},{\"id\":\"6aeb34d0-f17e-409c-9c53-1628bde26e33\",\"type\":\"WheelZoomTool\"}]},\"id\":\"fb9b4081-4ff5-4f61-8d39-583c3890532e\",\"type\":\"Toolbar\"},{\"attributes\":{\"formatter\":{\"id\":\"325eac62-1b0c-4a14-8411-38aaa479ddb5\",\"type\":\"BasicTickFormatter\"},\"plot\":{\"id\":\"acf332fa-86bb-4d58-8b62-810b448294c1\",\"subtype\":\"Figure\",\"type\":\"Plot\"},\"ticker\":{\"id\":\"c4eb4cbe-0d5e-45eb-be99-474da898120d\",\"type\":\"BasicTicker\"}},\"id\":\"96762239-13fa-404a-9a92-ed91053f4922\",\"type\":\"LinearAxis\"},{\"attributes\":{\"callback\":null,\"end\":0.8883484575239824},\"id\":\"b093b2f5-59ed-4f10-bd76-4c2d89455aaa\",\"type\":\"Range1d\"}],\"root_ids\":[\"acf332fa-86bb-4d58-8b62-810b448294c1\"]},\"title\":\"Bokeh Application\",\"version\":\"0.12.14\"}};\n",
       "  var render_items = [{\"docid\":\"2a7c31ee-f5f9-40d6-84a5-d8ac8188b1b5\",\"elementid\":\"63f50654-7fb0-4fd6-9185-0a193990c593\",\"modelid\":\"acf332fa-86bb-4d58-8b62-810b448294c1\"}];\n",
       "  root.Bokeh.embed.embed_items_notebook(docs_json, render_items);\n",
       "\n",
       "  }\n",
       "  if (root.Bokeh !== undefined) {\n",
       "    embed_document(root);\n",
       "  } else {\n",
       "    var attempts = 0;\n",
       "    var timer = setInterval(function(root) {\n",
       "      if (root.Bokeh !== undefined) {\n",
       "        embed_document(root);\n",
       "        clearInterval(timer);\n",
       "      }\n",
       "      attempts++;\n",
       "      if (attempts > 100) {\n",
       "        console.log(\"Bokeh: ERROR: Unable to run BokehJS code because BokehJS library is missing\")\n",
       "        clearInterval(timer);\n",
       "      }\n",
       "    }, 10, root)\n",
       "  }\n",
       "})(window);"
      ],
      "application/vnd.bokehjs_exec.v0+json": ""
     },
     "metadata": {
      "application/vnd.bokehjs_exec.v0+json": {
       "id": "acf332fa-86bb-4d58-8b62-810b448294c1"
      }
     },
     "output_type": "display_data"
    }
   ],
   "source": [
    "# Show graph\n",
    "show(p)"
   ]
  },
  {
   "cell_type": "markdown",
   "metadata": {},
   "source": [
    "## The call blocking probability is known to be insensitive with respect to the distribution of the call duration. What exactly does that mean?"
   ]
  },
  {
   "cell_type": "markdown",
   "metadata": {},
   "source": [
    "This means that the formula is also valid for non-exponential call holding times."
   ]
  },
  {
   "cell_type": "markdown",
   "metadata": {},
   "source": [
    "## Is the call blocking probability also insensitive with respect to the inter-arrival time distribution of the calls? If so, why, if not so, give a counter-example."
   ]
  },
  {
   "cell_type": "markdown",
   "metadata": {},
   "source": [
    "The call blocking probability is not insensitive with respect to the inter-arrival time distribution of the calls. This is because Erlang Blocking Formula requires Poisson arrival times. These Poisson arrival times have to satisfy two requirements.\n",
    "\n",
    "1. Mutually independent\n",
    "2. Exponentially distributed\n",
    "\n",
    "So by this definition the inter-arrival time distribution has to be, by definition, exponentially distributed."
   ]
  },
  {
   "cell_type": "markdown",
   "metadata": {},
   "source": [
    "### Now suppose the service provider wants to offer a new additional service to its customers: video conferencing. Each conference call requires 3 parallel channels for each connection. Video conferencing calls arrive according to a Poisson process with rate 0.25 calls per hour per km2, and the conference call duration is exponentially distributed with mean 15 minutes. Recall that each cell has 6 channels. Call attempts are blocked when there are not enough lines available. Assume throughout that the cell size is 1 km2."
   ]
  },
  {
   "cell_type": "markdown",
   "metadata": {},
   "source": [
    "## Formulate the evolution of the system as a two-dimensional continuous-time Markov chain, describing the numbers of calls at both call types (i.e., voice calls and video conferencing calls, respectively)."
   ]
  },
  {
   "cell_type": "markdown",
   "metadata": {},
   "source": [
    "The two dimensional continuous-time Markov chain looks like figure (ref). This models follows these parameters:\n",
    "\n",
    "* Number of types N: 2\n",
    "* Number of channels C: 6\n",
    "* b1, Cost of Type 1 (voice calls): 1\n",
    "* b2, Cost of Type 2 (video conferencing): 3\n",
    "* Lambda1: 10\n",
    "* Lambda2: 0.25\n",
    "* mu1: 1.5\n",
    "* mu2: 15\n",
    "\n",
    "In figure (ref) the probability that a video conferencing call is added to the system is depicted by lambda2 (INSERT PROPER CHAR) and the probability of a voice call being added to the system is depicted by lambda1 (INSERT). The probability that a call is finished is depicted by mu1 of 2 depending on the type, times the amount of calls of the same type.\n",
    "\n",
    "<img src=\"capture.PNG\" width=\"100%\">\n",
    "\n"
   ]
  },
  {
   "cell_type": "markdown",
   "metadata": {},
   "source": [
    "## Formulate and solve the balance equations for the Markov chain and calculate the equilibrium state probability for each state."
   ]
  },
  {
   "cell_type": "markdown",
   "metadata": {},
   "source": [
    "State space = {(0,0), (0,1), (0,2), (1,1), (2,1), (3,1), (1,0), (2,0), (3,0), (4,0), (5,0), (6,0)} (12 states) \n",
    "\n",
    "Balance equations:\n",
    "\n",
    "1.  For state (0,0): (10 + 0.25) &ast; pi(0,0) = 1.5 &ast; pi(0,1) +  15 &ast; pi(1,0)\n",
    "2.  For state (0,1): (10 + 15 + 0.25) &ast; pi(0,1) = 1.5 &ast; pi(1,1) + (2 &ast; 15) &ast; pi(0,2) + 0.25 &ast; pi(0.0)\n",
    "3.  For state (0,2): (2 &ast; 15) &ast; pi(0,2) = 0.25 &ast; pi(0,1)\n",
    "4.  For state (1,1): (10 + 15 + 1.5) &ast; pi(1,1) = (2 &ast; 1.5) &ast; pi(2,1) + 10 &ast; pi(0,1) + 0.25 &ast; pi(1.0)\n",
    "6.  For state (2,1): (10 + 15 + 2 &ast; 1.5) &ast; pi(2,1) = (3 &ast; 1.5) &ast; pi(3,1) + 10 &ast; pi(1,1) + 0.25 &ast; pi(2.0)\n",
    "7.  For state (3,1): (15 + 3 &ast; 1.5) &ast; pi(3,1) = 10 &ast; pi(2,1) + 0.25 &ast; pi(3.0)\n",
    "8.  For state (1,0): (10 + 1.5 + 0.25) &ast; pi(1,0) = 10 &ast; pi(0,0) + (2 &ast; 1.5) &ast; pi(2,0) +  15 &ast; pi(1,1)\n",
    "9.  For state (2,0): (10 + 2 &ast; 1.5 + 0.25) &ast; pi(2,0) = 10 &ast; pi(1,0) + (3 &ast; 1.5) &ast; pi(3,0) +  15 &ast; pi(1,2)\n",
    "10. For state (3,0): (10 + 3 &ast; 1.5 + 0.25) &ast; pi(3,0) = 10 &ast; pi(2,0) + (4 &ast; 1.5) &ast; pi(4,0) +  15 &ast; pi(1,3)\n",
    "11. For state (4,0): (10 + 4 &ast; 1.5) &ast; pi(4,0) = 10 &ast; pi(3,0) + (5 &ast; 1.5) &ast; pi(5,0)\n",
    "12. For state (5,0): (10 + 5 &ast; 1.5) &ast; pi(5,0) = 10 &ast; pi(4,0) + (6 &ast; 1.5) &ast; pi(6,0)\n",
    "13. For state (6,0): (6 &ast; 1.5) &ast; pi(6,0) = 10 &ast; pi(5,0)"
   ]
  },
  {
   "cell_type": "code",
   "execution_count": null,
   "metadata": {},
   "outputs": [],
   "source": [
    "Lambda1 = 10\n",
    "Lambda2 = 0.25\n",
    "mu1 = 1.5\n",
    "mu2 = 15\n",
    "\n",
    "v00 = (lambda1 + lambda2) * pi(0,0) = mu1 * pi(0,1) +  mu2 * pi(1,0)\n",
    "v01 = (lambda1 + mu2 + lambda2) * pi(0,1) = mu1 * pi(1,1) + (2 * mu2) * pi(0,2) + lambda2 * pi(0.0)\n",
    "v02 = (2 * mu2) * pi(0,2) = lambda2 * pi(0,1)\n",
    "v11 = (lambda1 + mu2 + mu1) * pi(1,1) = (2 * mu1) * pi(2,1) + lambda1 * pi(0,1) + lambda2 * pi(1.0)\n",
    "v21 = (lambda1 + mu2 + 2 * mu1) * pi(2,1) = (3 * mu1) * pi(3,1) + lambda1 * pi(1,1) + lambda2 * pi(2.0)\n",
    "v31 = (mu2 + 3 * mu1) * pi(3,1) = lambda1 * pi(2,1) + lambda2 * pi(3.0)\n",
    "v10 = (lambda1 + mu1 + lambda2) * pi(1,0) = lambda1 * pi(0,0) + (2 * mu1) * pi(2,0) +  mu2 * pi(1,1)\n",
    "v20 = (lambda1 + 2 * mu1 + lambda2) * pi(2,0) = lambda1 * pi(1,0) + (3 * mu1) * pi(3,0) +  mu2 * pi(1,2)\n",
    "v30 = (lambda1 + 3 * mu1 + lambda2) * pi(3,0) = lambda1 * pi(2,0) + (4 * mu1) * pi(4,0) +  mu2 * pi(1,3)\n",
    "v40 = (lambda1 + 4 * mu1) * pi(4,0) = lambda1 * pi(3,0) + (5 * mu1) * pi(5,0)\n",
    "v50 = (lambda1 + 5 * mu1) * pi(5,0) = lambda1 * pi(4,0) + (6 * mu1) * pi(6,0)\n",
    "v60 = (6 * mu1) * pi(6,0) = lambda1 * pi(5,0)"
   ]
  },
  {
   "cell_type": "markdown",
   "metadata": {},
   "source": [
    "<img src=\"temp.PNG\" width=\"100%\">"
   ]
  },
  {
   "cell_type": "markdown",
   "metadata": {},
   "source": [
    "## Use the product-form theorem discussed during the lecture of March 5 to given an explicit formula for the equilibrium state probabilities of the Markov chain."
   ]
  },
  {
   "cell_type": "markdown",
   "metadata": {},
   "source": [
    "<img src=\"temp2.PNG\" width=\"100%\">"
   ]
  },
  {
   "cell_type": "markdown",
   "metadata": {},
   "source": [
    "## Calculate the equilibrium state probabilities for the model (simply by filling out the proper parameter value in the formula obtained in question 8)."
   ]
  },
  {
   "cell_type": "code",
   "execution_count": null,
   "metadata": {},
   "outputs": [],
   "source": []
  },
  {
   "cell_type": "markdown",
   "metadata": {},
   "source": [
    "## Use this result to calculate the blocking probabilities for both call classes."
   ]
  },
  {
   "cell_type": "code",
   "execution_count": null,
   "metadata": {},
   "outputs": [],
   "source": []
  },
  {
   "cell_type": "markdown",
   "metadata": {},
   "source": [
    "## Formulate the Kaufman-Roberts recursion for the model."
   ]
  },
  {
   "cell_type": "markdown",
   "metadata": {},
   "source": [
    "<img src=\"kaufmann.PNG\" width=\"100%\">\n",
    "<img src=\"vars.PNG\" width=\"100%\">"
   ]
  },
  {
   "cell_type": "code",
   "execution_count": 7,
   "metadata": {},
   "outputs": [
    {
     "name": "stdout",
     "output_type": "stream",
     "text": [
      "15.0\n",
      "225.0\n",
      "1687.6875\n",
      "8441.25\n",
      "31675.78125\n",
      "95132.82421875\n",
      "====== Block probability for class=======\n",
      "Class  0 :  0.634\n",
      "Class  1 :  0.972\n"
     ]
    }
   ],
   "source": [
    "def getBlockProbabilityForKClass():\n",
    "  b = (1, 3) # Tuple of required channels for type of connection\n",
    "  d = (1.5, 15) # Tuple of call duration\n",
    "  \n",
    "  lamda = (10, 0.25/60) # arrival rate\n",
    "  p = (lamda[0] * d[0], lamda[1] * d[1]) # load\n",
    "\n",
    "  C = 6 # Number of channel\n",
    "  K = 2 # Number of class\n",
    "\n",
    "  g = [None] * (C+1)\n",
    "  g[0] = 1\n",
    "\n",
    "  # Calculate g array\n",
    "  for c in range(1, C+1):\n",
    "    gc_temp = 0\n",
    "    for j in range(K):\n",
    "      g_cb_index = c-b[j]\n",
    "      if (g_cb_index >=0):\n",
    "        gc_temp += b[j] * p[j] * g[g_cb_index]\n",
    "    print(gc_temp)    \n",
    "    gc_temp = gc_temp * 1/c\n",
    "    g[c] = gc_temp\n",
    "    \n",
    "    \n",
    "  # Calculate G_Constant\n",
    "  G = sum(g)\n",
    " \n",
    "\n",
    "  # Equilibrium distribution for the number of occupied resources\n",
    "  q = [None] * len(g)\n",
    "  for c in range(C+1):\n",
    "    q[c] = g[c]/G\n",
    "\n",
    "  # Blocking probability result\n",
    "  B = [None] * K\n",
    "  for j in range(K):\n",
    "    B_temp = 0\n",
    "    for c in range(C-b[j]+1, C+1):\n",
    "      B_temp += q[c]\n",
    "    B[j] = format(B_temp, '.3f')\n",
    "\n",
    "  return B\n",
    "\n",
    "blockProbabilityArr = getBlockProbabilityForKClass()\n",
    "\n",
    "print('====== Block probability for class=======')\n",
    "for index in range(len(blockProbabilityArr)):\n",
    "  print ('Class ', index, ': ', blockProbabilityArr[index])"
   ]
  },
  {
   "cell_type": "markdown",
   "metadata": {},
   "source": [
    "# Three cell analysis"
   ]
  },
  {
   "cell_type": "markdown",
   "metadata": {},
   "source": [
    "Consider a cellular voice network with three neighboring cells, as depicted below. The mean number of call\n",
    "attempts per minute for cells 1, 2 and 3 are 5, 10 and 15, respectively. We assume that the mean call\n",
    "duration is 2 minutes. There are a total of 32 channels, and there is a fixed number of channels per cell.\n",
    "However, to avoid interference neighboring cells cannot use the same channel.\n",
    "\n",
    "<img src=\"three.PNG\" width=\"25%\">"
   ]
  },
  {
   "cell_type": "markdown",
   "metadata": {},
   "source": [
    "## Determine the distribution of the 32 channels over the three cells that minimizes the call blocking probability of an arbitrary call (regardless of the cell in which takes place. To this end, extend your Erlang-B calculator to the three-cell case, and sure it calculates the call blocking probabilities per cell and the overall call blocking probability."
   ]
  },
  {
   "cell_type": "markdown",
   "metadata": {},
   "source": []
  },
  {
   "cell_type": "markdown",
   "metadata": {},
   "source": [
    "## Suppose we want to have an overall call blocking probability less than 5%. Do we need any additional channels? If so, how many additional channels are needed, and what would the optimal allocation of these channels then be?"
   ]
  },
  {
   "cell_type": "markdown",
   "metadata": {},
   "source": []
  },
  {
   "cell_type": "code",
   "execution_count": 1,
   "metadata": {},
   "outputs": [
    {
     "name": "stdout",
     "output_type": "stream",
     "text": [
      "Min probability of blocking:  0.5057064834151516\n",
      "Number of channels to minimize blocking prob of three cells:  [3, 10, 19]\n"
     ]
    }
   ],
   "source": [
    "import math\n",
    "\n",
    "def try_backtrack(i, triple, result_subsets, space, total):\n",
    "    for index in range(len(space)):\n",
    "        triple[i] = space[index]\n",
    "        \n",
    "        if (i == (len(triple)-1) and sum(triple) == total):\n",
    "            copy_tripe = list(triple)\n",
    "            if copy_tripe != []:\n",
    "                result_subsets.append(copy_tripe)\n",
    "\n",
    "        if (i != len(triple) - 1):    \n",
    "            try_backtrack(i + 1, triple, result_subsets, space, total)\n",
    "\n",
    "\n",
    "def generateAllSubsetSumToN(space, n , total):\n",
    "    subsets = [[]]\n",
    "    backtrack_triple = [None] * n\n",
    "    try_backtrack(0, backtrack_triple, subsets, space, total)\n",
    "    return subsets\n",
    "\n",
    "####### Erlang model\n",
    "lamda1 = 5\n",
    "lamda2 = 10\n",
    "lamda3 = 15\n",
    "lamda_sum = lamda1 + lamda2 + lamda3\n",
    "\n",
    "beta = 2\n",
    "lamda1_average = (lamda1)/lamda_sum\n",
    "lamda2_average = (lamda2)/lamda_sum\n",
    "lamda3_average = (lamda3)/lamda_sum\n",
    "\n",
    "# Calculate upper part of Erlang-B formula\n",
    "def bp_calc(lamda, beta, N):\n",
    "    bp = (lamda * beta) ** N / math.factorial(N)\n",
    "    return bp\n",
    "\n",
    "# Calculate Markov chain\n",
    "def erlang_B(lamda, beta, N):\n",
    "    bp1 = bp_calc(lamda, beta, N)\n",
    "    bp2 = 1\n",
    "    \n",
    "    for i in range(N):\n",
    "        bp2 += bp_calc(lamda, beta, i + 1)\n",
    "        \n",
    "    return bp1 / bp2\n",
    "\n",
    "######## Collect all probability of arbitrary in 3 cells\n",
    "space = list(range(1, 33))\n",
    "subsets = generateAllSubsetSumToN(space, 3, 32)\n",
    "subsets = [x for x in subsets if x != []]\n",
    "\n",
    "nsubset = len(subsets)\n",
    "prob = [None] * nsubset\n",
    "for index in range(nsubset):\n",
    "    subset = subsets[index]\n",
    "    prob[index] = lamda1_average * erlang_B(lamda1, beta, subset[0]) + lamda2_average * erlang_B(lamda2, beta, subset[1]) + lamda3_average * erlang_B(lamda3, beta, subset[2])\n",
    "    \n",
    "min_prob = min(prob)\n",
    "print(\"Min probability of blocking: \", min_prob)\n",
    "set_index_for_min_prob = prob.index(min_prob)\n",
    "print(\"Number of channels to minimize blocking prob of three cells: \", subsets[set_index_for_min_prob])"
   ]
  },
  {
   "cell_type": "code",
   "execution_count": null,
   "metadata": {},
   "outputs": [],
   "source": []
  },
  {
   "cell_type": "code",
   "execution_count": null,
   "metadata": {},
   "outputs": [],
   "source": []
  },
  {
   "cell_type": "code",
   "execution_count": null,
   "metadata": {},
   "outputs": [],
   "source": []
  },
  {
   "cell_type": "code",
   "execution_count": null,
   "metadata": {},
   "outputs": [],
   "source": []
  },
  {
   "cell_type": "code",
   "execution_count": null,
   "metadata": {},
   "outputs": [],
   "source": []
  },
  {
   "cell_type": "code",
   "execution_count": null,
   "metadata": {},
   "outputs": [],
   "source": []
  },
  {
   "cell_type": "code",
   "execution_count": null,
   "metadata": {},
   "outputs": [],
   "source": []
  }
 ],
 "metadata": {
  "kernelspec": {
   "display_name": "Python 3",
   "language": "python",
   "name": "python3"
  },
  "language_info": {
   "codemirror_mode": {
    "name": "ipython",
    "version": 3
   },
   "file_extension": ".py",
   "mimetype": "text/x-python",
   "name": "python",
   "nbconvert_exporter": "python",
   "pygments_lexer": "ipython3",
   "version": "3.6.3"
  }
 },
 "nbformat": 4,
 "nbformat_minor": 2
}
