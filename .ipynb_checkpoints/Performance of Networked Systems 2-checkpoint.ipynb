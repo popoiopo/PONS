{
 "cells": [
  {
   "cell_type": "markdown",
   "metadata": {},
   "source": [
    "# Dimensioning of cellular networks with video-conferencing services\n",
    "\n",
    "A mobile operator of a cellular GSM network wants to determine how many base stations are needed to\n",
    "satisfy its customers’ Quality of Service (QoS) demands. To this end, the operator wants to determine the\n",
    "maximum size of a cell for which the call-blocking probability is still below some given threshold. Voice\n",
    "telephone calls are generated with rate 10 calls per minute per square kilometer (i.e., km2\n",
    "), and the call\n",
    "duration has an exponential distribution with mean 1.5 minutes. Assume that each voice call requires a\n",
    "single channel to the nearest base station, and that each cell can support only 6 channels in parallel. \n",
    "\n",
    "\n",
    "To make a proper decision on the number of base stations to be placed to offer good quality to its\n",
    "customers, the operator wants to understand the impact of the cell size (in km2\n",
    ") on the call-blocking\n",
    "probability. \n"
   ]
  },
  {
   "cell_type": "markdown",
   "metadata": {},
   "source": [
    "## Formulate a simple model description for the problem."
   ]
  },
  {
   "cell_type": "markdown",
   "metadata": {},
   "source": []
  },
  {
   "cell_type": "markdown",
   "metadata": {},
   "source": [
    "## Give a formula for the call blocking probability in terms of the model parameters."
   ]
  },
  {
   "cell_type": "markdown",
   "metadata": {},
   "source": []
  },
  {
   "cell_type": "markdown",
   "metadata": {},
   "source": [
    "## Write your own ‘Erlang-B calculator” and calculate the blocking probability for cell sizes 0.5 km2, 1km2 and 2 km2."
   ]
  },
  {
   "cell_type": "code",
   "execution_count": 62,
   "metadata": {},
   "outputs": [
    {
     "data": {
      "text/html": [
       "\n",
       "    <div class=\"bk-root\">\n",
       "        <a href=\"https://bokeh.pydata.org\" target=\"_blank\" class=\"bk-logo bk-logo-small bk-logo-notebook\"></a>\n",
       "        <span id=\"3459514a-17f7-4b39-a312-f80a8d38fc5b\">Loading BokehJS ...</span>\n",
       "    </div>"
      ]
     },
     "metadata": {},
     "output_type": "display_data"
    },
    {
     "data": {
      "application/javascript": [
       "\n",
       "(function(root) {\n",
       "  function now() {\n",
       "    return new Date();\n",
       "  }\n",
       "\n",
       "  var force = true;\n",
       "\n",
       "  if (typeof (root._bokeh_onload_callbacks) === \"undefined\" || force === true) {\n",
       "    root._bokeh_onload_callbacks = [];\n",
       "    root._bokeh_is_loading = undefined;\n",
       "  }\n",
       "\n",
       "  var JS_MIME_TYPE = 'application/javascript';\n",
       "  var HTML_MIME_TYPE = 'text/html';\n",
       "  var EXEC_MIME_TYPE = 'application/vnd.bokehjs_exec.v0+json';\n",
       "  var CLASS_NAME = 'output_bokeh rendered_html';\n",
       "\n",
       "  /**\n",
       "   * Render data to the DOM node\n",
       "   */\n",
       "  function render(props, node) {\n",
       "    var script = document.createElement(\"script\");\n",
       "    node.appendChild(script);\n",
       "  }\n",
       "\n",
       "  /**\n",
       "   * Handle when an output is cleared or removed\n",
       "   */\n",
       "  function handleClearOutput(event, handle) {\n",
       "    var cell = handle.cell;\n",
       "\n",
       "    var id = cell.output_area._bokeh_element_id;\n",
       "    var server_id = cell.output_area._bokeh_server_id;\n",
       "    // Clean up Bokeh references\n",
       "    if (id !== undefined) {\n",
       "      Bokeh.index[id].model.document.clear();\n",
       "      delete Bokeh.index[id];\n",
       "    }\n",
       "\n",
       "    if (server_id !== undefined) {\n",
       "      // Clean up Bokeh references\n",
       "      var cmd = \"from bokeh.io.state import curstate; print(curstate().uuid_to_server['\" + server_id + \"'].get_sessions()[0].document.roots[0]._id)\";\n",
       "      cell.notebook.kernel.execute(cmd, {\n",
       "        iopub: {\n",
       "          output: function(msg) {\n",
       "            var element_id = msg.content.text.trim();\n",
       "            Bokeh.index[element_id].model.document.clear();\n",
       "            delete Bokeh.index[element_id];\n",
       "          }\n",
       "        }\n",
       "      });\n",
       "      // Destroy server and session\n",
       "      var cmd = \"import bokeh.io.notebook as ion; ion.destroy_server('\" + server_id + \"')\";\n",
       "      cell.notebook.kernel.execute(cmd);\n",
       "    }\n",
       "  }\n",
       "\n",
       "  /**\n",
       "   * Handle when a new output is added\n",
       "   */\n",
       "  function handleAddOutput(event, handle) {\n",
       "    var output_area = handle.output_area;\n",
       "    var output = handle.output;\n",
       "\n",
       "    // limit handleAddOutput to display_data with EXEC_MIME_TYPE content only\n",
       "    if ((output.output_type != \"display_data\") || (!output.data.hasOwnProperty(EXEC_MIME_TYPE))) {\n",
       "      return\n",
       "    }\n",
       "\n",
       "    var toinsert = output_area.element.find(\".\" + CLASS_NAME.split(' ')[0]);\n",
       "\n",
       "    if (output.metadata[EXEC_MIME_TYPE][\"id\"] !== undefined) {\n",
       "      toinsert[0].firstChild.textContent = output.data[JS_MIME_TYPE];\n",
       "      // store reference to embed id on output_area\n",
       "      output_area._bokeh_element_id = output.metadata[EXEC_MIME_TYPE][\"id\"];\n",
       "    }\n",
       "    if (output.metadata[EXEC_MIME_TYPE][\"server_id\"] !== undefined) {\n",
       "      var bk_div = document.createElement(\"div\");\n",
       "      bk_div.innerHTML = output.data[HTML_MIME_TYPE];\n",
       "      var script_attrs = bk_div.children[0].attributes;\n",
       "      for (var i = 0; i < script_attrs.length; i++) {\n",
       "        toinsert[0].firstChild.setAttribute(script_attrs[i].name, script_attrs[i].value);\n",
       "      }\n",
       "      // store reference to server id on output_area\n",
       "      output_area._bokeh_server_id = output.metadata[EXEC_MIME_TYPE][\"server_id\"];\n",
       "    }\n",
       "  }\n",
       "\n",
       "  function register_renderer(events, OutputArea) {\n",
       "\n",
       "    function append_mime(data, metadata, element) {\n",
       "      // create a DOM node to render to\n",
       "      var toinsert = this.create_output_subarea(\n",
       "        metadata,\n",
       "        CLASS_NAME,\n",
       "        EXEC_MIME_TYPE\n",
       "      );\n",
       "      this.keyboard_manager.register_events(toinsert);\n",
       "      // Render to node\n",
       "      var props = {data: data, metadata: metadata[EXEC_MIME_TYPE]};\n",
       "      render(props, toinsert[0]);\n",
       "      element.append(toinsert);\n",
       "      return toinsert\n",
       "    }\n",
       "\n",
       "    /* Handle when an output is cleared or removed */\n",
       "    events.on('clear_output.CodeCell', handleClearOutput);\n",
       "    events.on('delete.Cell', handleClearOutput);\n",
       "\n",
       "    /* Handle when a new output is added */\n",
       "    events.on('output_added.OutputArea', handleAddOutput);\n",
       "\n",
       "    /**\n",
       "     * Register the mime type and append_mime function with output_area\n",
       "     */\n",
       "    OutputArea.prototype.register_mime_type(EXEC_MIME_TYPE, append_mime, {\n",
       "      /* Is output safe? */\n",
       "      safe: true,\n",
       "      /* Index of renderer in `output_area.display_order` */\n",
       "      index: 0\n",
       "    });\n",
       "  }\n",
       "\n",
       "  // register the mime type if in Jupyter Notebook environment and previously unregistered\n",
       "  if (root.Jupyter !== undefined) {\n",
       "    var events = require('base/js/events');\n",
       "    var OutputArea = require('notebook/js/outputarea').OutputArea;\n",
       "\n",
       "    if (OutputArea.prototype.mime_types().indexOf(EXEC_MIME_TYPE) == -1) {\n",
       "      register_renderer(events, OutputArea);\n",
       "    }\n",
       "  }\n",
       "\n",
       "  \n",
       "  if (typeof (root._bokeh_timeout) === \"undefined\" || force === true) {\n",
       "    root._bokeh_timeout = Date.now() + 5000;\n",
       "    root._bokeh_failed_load = false;\n",
       "  }\n",
       "\n",
       "  var NB_LOAD_WARNING = {'data': {'text/html':\n",
       "     \"<div style='background-color: #fdd'>\\n\"+\n",
       "     \"<p>\\n\"+\n",
       "     \"BokehJS does not appear to have successfully loaded. If loading BokehJS from CDN, this \\n\"+\n",
       "     \"may be due to a slow or bad network connection. Possible fixes:\\n\"+\n",
       "     \"</p>\\n\"+\n",
       "     \"<ul>\\n\"+\n",
       "     \"<li>re-rerun `output_notebook()` to attempt to load from CDN again, or</li>\\n\"+\n",
       "     \"<li>use INLINE resources instead, as so:</li>\\n\"+\n",
       "     \"</ul>\\n\"+\n",
       "     \"<code>\\n\"+\n",
       "     \"from bokeh.resources import INLINE\\n\"+\n",
       "     \"output_notebook(resources=INLINE)\\n\"+\n",
       "     \"</code>\\n\"+\n",
       "     \"</div>\"}};\n",
       "\n",
       "  function display_loaded() {\n",
       "    var el = document.getElementById(\"3459514a-17f7-4b39-a312-f80a8d38fc5b\");\n",
       "    if (el != null) {\n",
       "      el.textContent = \"BokehJS is loading...\";\n",
       "    }\n",
       "    if (root.Bokeh !== undefined) {\n",
       "      if (el != null) {\n",
       "        el.textContent = \"BokehJS \" + root.Bokeh.version + \" successfully loaded.\";\n",
       "      }\n",
       "    } else if (Date.now() < root._bokeh_timeout) {\n",
       "      setTimeout(display_loaded, 100)\n",
       "    }\n",
       "  }\n",
       "\n",
       "\n",
       "  function run_callbacks() {\n",
       "    try {\n",
       "      root._bokeh_onload_callbacks.forEach(function(callback) { callback() });\n",
       "    }\n",
       "    finally {\n",
       "      delete root._bokeh_onload_callbacks\n",
       "    }\n",
       "    console.info(\"Bokeh: all callbacks have finished\");\n",
       "  }\n",
       "\n",
       "  function load_libs(js_urls, callback) {\n",
       "    root._bokeh_onload_callbacks.push(callback);\n",
       "    if (root._bokeh_is_loading > 0) {\n",
       "      console.log(\"Bokeh: BokehJS is being loaded, scheduling callback at\", now());\n",
       "      return null;\n",
       "    }\n",
       "    if (js_urls == null || js_urls.length === 0) {\n",
       "      run_callbacks();\n",
       "      return null;\n",
       "    }\n",
       "    console.log(\"Bokeh: BokehJS not loaded, scheduling load and callback at\", now());\n",
       "    root._bokeh_is_loading = js_urls.length;\n",
       "    for (var i = 0; i < js_urls.length; i++) {\n",
       "      var url = js_urls[i];\n",
       "      var s = document.createElement('script');\n",
       "      s.src = url;\n",
       "      s.async = false;\n",
       "      s.onreadystatechange = s.onload = function() {\n",
       "        root._bokeh_is_loading--;\n",
       "        if (root._bokeh_is_loading === 0) {\n",
       "          console.log(\"Bokeh: all BokehJS libraries loaded\");\n",
       "          run_callbacks()\n",
       "        }\n",
       "      };\n",
       "      s.onerror = function() {\n",
       "        console.warn(\"failed to load library \" + url);\n",
       "      };\n",
       "      console.log(\"Bokeh: injecting script tag for BokehJS library: \", url);\n",
       "      document.getElementsByTagName(\"head\")[0].appendChild(s);\n",
       "    }\n",
       "  };var element = document.getElementById(\"3459514a-17f7-4b39-a312-f80a8d38fc5b\");\n",
       "  if (element == null) {\n",
       "    console.log(\"Bokeh: ERROR: autoload.js configured with elementid '3459514a-17f7-4b39-a312-f80a8d38fc5b' but no matching script tag was found. \")\n",
       "    return false;\n",
       "  }\n",
       "\n",
       "  var js_urls = [\"https://cdn.pydata.org/bokeh/release/bokeh-0.12.14.min.js\", \"https://cdn.pydata.org/bokeh/release/bokeh-widgets-0.12.14.min.js\", \"https://cdn.pydata.org/bokeh/release/bokeh-tables-0.12.14.min.js\", \"https://cdn.pydata.org/bokeh/release/bokeh-gl-0.12.14.min.js\"];\n",
       "\n",
       "  var inline_js = [\n",
       "    function(Bokeh) {\n",
       "      Bokeh.set_log_level(\"info\");\n",
       "    },\n",
       "    \n",
       "    function(Bokeh) {\n",
       "      \n",
       "    },\n",
       "    function(Bokeh) {\n",
       "      console.log(\"Bokeh: injecting CSS: https://cdn.pydata.org/bokeh/release/bokeh-0.12.14.min.css\");\n",
       "      Bokeh.embed.inject_css(\"https://cdn.pydata.org/bokeh/release/bokeh-0.12.14.min.css\");\n",
       "      console.log(\"Bokeh: injecting CSS: https://cdn.pydata.org/bokeh/release/bokeh-widgets-0.12.14.min.css\");\n",
       "      Bokeh.embed.inject_css(\"https://cdn.pydata.org/bokeh/release/bokeh-widgets-0.12.14.min.css\");\n",
       "      console.log(\"Bokeh: injecting CSS: https://cdn.pydata.org/bokeh/release/bokeh-tables-0.12.14.min.css\");\n",
       "      Bokeh.embed.inject_css(\"https://cdn.pydata.org/bokeh/release/bokeh-tables-0.12.14.min.css\");\n",
       "    }\n",
       "  ];\n",
       "\n",
       "  function run_inline_js() {\n",
       "    \n",
       "    if ((root.Bokeh !== undefined) || (force === true)) {\n",
       "      for (var i = 0; i < inline_js.length; i++) {\n",
       "        inline_js[i].call(root, root.Bokeh);\n",
       "      }if (force === true) {\n",
       "        display_loaded();\n",
       "      }} else if (Date.now() < root._bokeh_timeout) {\n",
       "      setTimeout(run_inline_js, 100);\n",
       "    } else if (!root._bokeh_failed_load) {\n",
       "      console.log(\"Bokeh: BokehJS failed to load within specified timeout.\");\n",
       "      root._bokeh_failed_load = true;\n",
       "    } else if (force !== true) {\n",
       "      var cell = $(document.getElementById(\"3459514a-17f7-4b39-a312-f80a8d38fc5b\")).parents('.cell').data().cell;\n",
       "      cell.output_area.append_execute_result(NB_LOAD_WARNING)\n",
       "    }\n",
       "\n",
       "  }\n",
       "\n",
       "  if (root._bokeh_is_loading === 0) {\n",
       "    console.log(\"Bokeh: BokehJS loaded, going straight to plotting\");\n",
       "    run_inline_js();\n",
       "  } else {\n",
       "    load_libs(js_urls, function() {\n",
       "      console.log(\"Bokeh: BokehJS plotting callback run at\", now());\n",
       "      run_inline_js();\n",
       "    });\n",
       "  }\n",
       "}(window));"
      ],
      "application/vnd.bokehjs_load.v0+json": "\n(function(root) {\n  function now() {\n    return new Date();\n  }\n\n  var force = true;\n\n  if (typeof (root._bokeh_onload_callbacks) === \"undefined\" || force === true) {\n    root._bokeh_onload_callbacks = [];\n    root._bokeh_is_loading = undefined;\n  }\n\n  \n\n  \n  if (typeof (root._bokeh_timeout) === \"undefined\" || force === true) {\n    root._bokeh_timeout = Date.now() + 5000;\n    root._bokeh_failed_load = false;\n  }\n\n  var NB_LOAD_WARNING = {'data': {'text/html':\n     \"<div style='background-color: #fdd'>\\n\"+\n     \"<p>\\n\"+\n     \"BokehJS does not appear to have successfully loaded. If loading BokehJS from CDN, this \\n\"+\n     \"may be due to a slow or bad network connection. Possible fixes:\\n\"+\n     \"</p>\\n\"+\n     \"<ul>\\n\"+\n     \"<li>re-rerun `output_notebook()` to attempt to load from CDN again, or</li>\\n\"+\n     \"<li>use INLINE resources instead, as so:</li>\\n\"+\n     \"</ul>\\n\"+\n     \"<code>\\n\"+\n     \"from bokeh.resources import INLINE\\n\"+\n     \"output_notebook(resources=INLINE)\\n\"+\n     \"</code>\\n\"+\n     \"</div>\"}};\n\n  function display_loaded() {\n    var el = document.getElementById(\"3459514a-17f7-4b39-a312-f80a8d38fc5b\");\n    if (el != null) {\n      el.textContent = \"BokehJS is loading...\";\n    }\n    if (root.Bokeh !== undefined) {\n      if (el != null) {\n        el.textContent = \"BokehJS \" + root.Bokeh.version + \" successfully loaded.\";\n      }\n    } else if (Date.now() < root._bokeh_timeout) {\n      setTimeout(display_loaded, 100)\n    }\n  }\n\n\n  function run_callbacks() {\n    try {\n      root._bokeh_onload_callbacks.forEach(function(callback) { callback() });\n    }\n    finally {\n      delete root._bokeh_onload_callbacks\n    }\n    console.info(\"Bokeh: all callbacks have finished\");\n  }\n\n  function load_libs(js_urls, callback) {\n    root._bokeh_onload_callbacks.push(callback);\n    if (root._bokeh_is_loading > 0) {\n      console.log(\"Bokeh: BokehJS is being loaded, scheduling callback at\", now());\n      return null;\n    }\n    if (js_urls == null || js_urls.length === 0) {\n      run_callbacks();\n      return null;\n    }\n    console.log(\"Bokeh: BokehJS not loaded, scheduling load and callback at\", now());\n    root._bokeh_is_loading = js_urls.length;\n    for (var i = 0; i < js_urls.length; i++) {\n      var url = js_urls[i];\n      var s = document.createElement('script');\n      s.src = url;\n      s.async = false;\n      s.onreadystatechange = s.onload = function() {\n        root._bokeh_is_loading--;\n        if (root._bokeh_is_loading === 0) {\n          console.log(\"Bokeh: all BokehJS libraries loaded\");\n          run_callbacks()\n        }\n      };\n      s.onerror = function() {\n        console.warn(\"failed to load library \" + url);\n      };\n      console.log(\"Bokeh: injecting script tag for BokehJS library: \", url);\n      document.getElementsByTagName(\"head\")[0].appendChild(s);\n    }\n  };var element = document.getElementById(\"3459514a-17f7-4b39-a312-f80a8d38fc5b\");\n  if (element == null) {\n    console.log(\"Bokeh: ERROR: autoload.js configured with elementid '3459514a-17f7-4b39-a312-f80a8d38fc5b' but no matching script tag was found. \")\n    return false;\n  }\n\n  var js_urls = [\"https://cdn.pydata.org/bokeh/release/bokeh-0.12.14.min.js\", \"https://cdn.pydata.org/bokeh/release/bokeh-widgets-0.12.14.min.js\", \"https://cdn.pydata.org/bokeh/release/bokeh-tables-0.12.14.min.js\", \"https://cdn.pydata.org/bokeh/release/bokeh-gl-0.12.14.min.js\"];\n\n  var inline_js = [\n    function(Bokeh) {\n      Bokeh.set_log_level(\"info\");\n    },\n    \n    function(Bokeh) {\n      \n    },\n    function(Bokeh) {\n      console.log(\"Bokeh: injecting CSS: https://cdn.pydata.org/bokeh/release/bokeh-0.12.14.min.css\");\n      Bokeh.embed.inject_css(\"https://cdn.pydata.org/bokeh/release/bokeh-0.12.14.min.css\");\n      console.log(\"Bokeh: injecting CSS: https://cdn.pydata.org/bokeh/release/bokeh-widgets-0.12.14.min.css\");\n      Bokeh.embed.inject_css(\"https://cdn.pydata.org/bokeh/release/bokeh-widgets-0.12.14.min.css\");\n      console.log(\"Bokeh: injecting CSS: https://cdn.pydata.org/bokeh/release/bokeh-tables-0.12.14.min.css\");\n      Bokeh.embed.inject_css(\"https://cdn.pydata.org/bokeh/release/bokeh-tables-0.12.14.min.css\");\n    }\n  ];\n\n  function run_inline_js() {\n    \n    if ((root.Bokeh !== undefined) || (force === true)) {\n      for (var i = 0; i < inline_js.length; i++) {\n        inline_js[i].call(root, root.Bokeh);\n      }if (force === true) {\n        display_loaded();\n      }} else if (Date.now() < root._bokeh_timeout) {\n      setTimeout(run_inline_js, 100);\n    } else if (!root._bokeh_failed_load) {\n      console.log(\"Bokeh: BokehJS failed to load within specified timeout.\");\n      root._bokeh_failed_load = true;\n    } else if (force !== true) {\n      var cell = $(document.getElementById(\"3459514a-17f7-4b39-a312-f80a8d38fc5b\")).parents('.cell').data().cell;\n      cell.output_area.append_execute_result(NB_LOAD_WARNING)\n    }\n\n  }\n\n  if (root._bokeh_is_loading === 0) {\n    console.log(\"Bokeh: BokehJS loaded, going straight to plotting\");\n    run_inline_js();\n  } else {\n    load_libs(js_urls, function() {\n      console.log(\"Bokeh: BokehJS plotting callback run at\", now());\n      run_inline_js();\n    });\n  }\n}(window));"
     },
     "metadata": {},
     "output_type": "display_data"
    }
   ],
   "source": [
    "from ipywidgets import interact\n",
    "import numpy as np\n",
    "import math\n",
    "\n",
    "from bokeh.io import push_notebook, show, output_notebook\n",
    "from bokeh.plotting import figure\n",
    "from bokeh.models import ColumnDataSource, HoverTool, LassoSelectTool, WheelZoomTool\n",
    "from bokeh.palettes import Spectral3\n",
    "\n",
    "output_notebook()"
   ]
  },
  {
   "cell_type": "code",
   "execution_count": 63,
   "metadata": {},
   "outputs": [],
   "source": [
    "# Calculate upper part of Erlang-B formula\n",
    "def bp_calc(lamda, beta, N):\n",
    "    bp = pow((lamda * beta), N) / math.factorial(N)\n",
    "    return bp\n",
    "\n",
    "# Calculate Markov chain\n",
    "def erlang_B(lamda, beta, N):\n",
    "    bp1 = bp_calc(lamda, beta, N)\n",
    "    bp2 = 1\n",
    "    \n",
    "    for i in range(N):\n",
    "        bp2 += bp_calc(lamda, beta, i + 1)\n",
    "        \n",
    "    return bp1 / bp2"
   ]
  },
  {
   "cell_type": "code",
   "execution_count": 64,
   "metadata": {},
   "outputs": [],
   "source": [
    "# Initializa data\n",
    "data_x = ['0.5 km2','1 km2','2 km2']\n",
    "data_y = []\n",
    "\n",
    "# Initialize variable\n",
    "datapoints = [0.5,1,2]\n",
    "lamda = 10\n",
    "beta = 1.5\n",
    "\n",
    "# Fill data\n",
    "for i in datapoints:\n",
    "    data_y.append(erlang_B(lamda * i, beta, 6))\n"
   ]
  },
  {
   "cell_type": "code",
   "execution_count": 100,
   "metadata": {},
   "outputs": [],
   "source": [
    "# Setting data in right format\n",
    "source = ColumnDataSource(data=dict(x_axis=data_x, y_axis=data_y, color=Spectral3))\n",
    "\n",
    "# Creating tooltip\n",
    "hover = HoverTool(tooltips=[\n",
    "    (\"Cell Size\", \"@x_axis\"),\n",
    "    (\"Blocking Probability\", \"@y_axis\"),\n",
    "])\n",
    "\n",
    "# Create figure\n",
    "p = figure(x_range=data_x, y_range=(0,(max(data_y) + (max(data_y) / 10))), plot_height=350, title=\"Erlang Blocking Calculator\",\n",
    "           tools=[hover,LassoSelectTool(), WheelZoomTool()])\n",
    "\n",
    "# Create bars\n",
    "p.vbar(x='x_axis', top='y_axis', width=0.9, color='color', legend=\"x_axis\", source=source)\n",
    "\n",
    "# Colors and legend\n",
    "p.xgrid.grid_line_color = None\n",
    "p.legend.orientation = \"horizontal\"\n",
    "p.legend.location = \"top_center\""
   ]
  },
  {
   "cell_type": "code",
   "execution_count": 101,
   "metadata": {},
   "outputs": [],
   "source": [
    "# def update(f, w=1, A=1, phi=0):\n",
    "#     if   f == \"sin\": func = np.sin\n",
    "#     elif f == \"cos\": func = np.cos\n",
    "#     elif f == \"tan\": func = np.tan\n",
    "#     r.data_source.data['y'] = A * func(w * x + phi)\n",
    "#     push_notebook()"
   ]
  },
  {
   "cell_type": "code",
   "execution_count": 102,
   "metadata": {},
   "outputs": [
    {
     "data": {
      "text/html": [
       "\n",
       "<div class=\"bk-root\">\n",
       "    <div class=\"bk-plotdiv\" id=\"3472c1ab-d2d8-4cad-99ea-2f1c3ce88c5c\"></div>\n",
       "</div>"
      ]
     },
     "metadata": {},
     "output_type": "display_data"
    },
    {
     "data": {
      "application/javascript": [
       "(function(root) {\n",
       "  function embed_document(root) {\n",
       "    \n",
       "  var docs_json = {\"7520509d-d16f-411f-9225-c69c75816d4b\":{\"roots\":{\"references\":[{\"attributes\":{},\"id\":\"82c6686c-2f83-4c72-b66f-9a92168ee7ea\",\"type\":\"CategoricalTicker\"},{\"attributes\":{\"formatter\":{\"id\":\"c4d29c0f-9c5a-46a2-aff0-85e64859b90f\",\"type\":\"CategoricalTickFormatter\"},\"plot\":{\"id\":\"a2a9fb1d-09dd-4566-a950-4dd892637b51\",\"subtype\":\"Figure\",\"type\":\"Plot\"},\"ticker\":{\"id\":\"82c6686c-2f83-4c72-b66f-9a92168ee7ea\",\"type\":\"CategoricalTicker\"}},\"id\":\"b3fa01da-3306-4365-8471-5b951f6994cc\",\"type\":\"CategoricalAxis\"},{\"attributes\":{\"source\":{\"id\":\"abdfbabe-2658-4684-94e9-25663c6b4c9f\",\"type\":\"ColumnDataSource\"}},\"id\":\"4d96415a-4829-42e1-afc1-06abef42e9d5\",\"type\":\"CDSView\"},{\"attributes\":{\"grid_line_color\":{\"value\":null},\"plot\":{\"id\":\"a2a9fb1d-09dd-4566-a950-4dd892637b51\",\"subtype\":\"Figure\",\"type\":\"Plot\"},\"ticker\":{\"id\":\"82c6686c-2f83-4c72-b66f-9a92168ee7ea\",\"type\":\"CategoricalTicker\"}},\"id\":\"22fa7e8a-6961-4047-b1d6-29d946a7ed9a\",\"type\":\"Grid\"},{\"attributes\":{\"callback\":null,\"tooltips\":[[\"Cell Size\",\"@x_axis\"],[\"Blocking Probability\",\"@y_axis\"]]},\"id\":\"947bd5a0-3546-4646-a470-0e9be35dd2fb\",\"type\":\"HoverTool\"},{\"attributes\":{\"callback\":null,\"overlay\":{\"id\":\"5c76ca2b-ebbc-41ff-9c7e-112ce11bb90c\",\"type\":\"PolyAnnotation\"}},\"id\":\"13ef7905-4ea9-44e9-9370-5024ccbae81a\",\"type\":\"LassoSelectTool\"},{\"attributes\":{},\"id\":\"e31bd5ba-c419-41f3-a4bb-bb327e8d25a2\",\"type\":\"LinearScale\"},{\"attributes\":{\"plot\":null,\"text\":\"Erlang Blocking Calculator\"},\"id\":\"88e8724a-2fa3-4214-967b-3790c545e2ea\",\"type\":\"Title\"},{\"attributes\":{},\"id\":\"c4d29c0f-9c5a-46a2-aff0-85e64859b90f\",\"type\":\"CategoricalTickFormatter\"},{\"attributes\":{\"below\":[{\"id\":\"b3fa01da-3306-4365-8471-5b951f6994cc\",\"type\":\"CategoricalAxis\"}],\"left\":[{\"id\":\"eaa5ecd0-7342-4c52-9bd0-087b00836613\",\"type\":\"LinearAxis\"}],\"plot_height\":350,\"renderers\":[{\"id\":\"b3fa01da-3306-4365-8471-5b951f6994cc\",\"type\":\"CategoricalAxis\"},{\"id\":\"22fa7e8a-6961-4047-b1d6-29d946a7ed9a\",\"type\":\"Grid\"},{\"id\":\"eaa5ecd0-7342-4c52-9bd0-087b00836613\",\"type\":\"LinearAxis\"},{\"id\":\"05158b2d-42ef-4930-83b7-49db7781af25\",\"type\":\"Grid\"},{\"id\":\"5c76ca2b-ebbc-41ff-9c7e-112ce11bb90c\",\"type\":\"PolyAnnotation\"},{\"id\":\"3d3a33cd-10be-4712-8174-8e34d1304c7c\",\"type\":\"Legend\"},{\"id\":\"a1996a0c-454f-450f-97ac-90369878df3c\",\"type\":\"GlyphRenderer\"}],\"title\":{\"id\":\"88e8724a-2fa3-4214-967b-3790c545e2ea\",\"type\":\"Title\"},\"toolbar\":{\"id\":\"38e04172-057e-4f68-a55b-cf0b69f0ac96\",\"type\":\"Toolbar\"},\"x_range\":{\"id\":\"797fbb35-ccbb-4f5d-a5dd-a5bae58e0107\",\"type\":\"FactorRange\"},\"x_scale\":{\"id\":\"366d8bc4-8211-4781-961c-87c38055423c\",\"type\":\"CategoricalScale\"},\"y_range\":{\"id\":\"a0cc2219-416b-4aca-845f-a3959f4d19d0\",\"type\":\"Range1d\"},\"y_scale\":{\"id\":\"e31bd5ba-c419-41f3-a4bb-bb327e8d25a2\",\"type\":\"LinearScale\"}},\"id\":\"a2a9fb1d-09dd-4566-a950-4dd892637b51\",\"subtype\":\"Figure\",\"type\":\"Plot\"},{\"attributes\":{\"formatter\":{\"id\":\"560ac2de-25e7-4d52-ac2d-1f79a874f5f7\",\"type\":\"BasicTickFormatter\"},\"plot\":{\"id\":\"a2a9fb1d-09dd-4566-a950-4dd892637b51\",\"subtype\":\"Figure\",\"type\":\"Plot\"},\"ticker\":{\"id\":\"b31939ad-b067-4e77-95c0-b81fce9b5c53\",\"type\":\"BasicTicker\"}},\"id\":\"eaa5ecd0-7342-4c52-9bd0-087b00836613\",\"type\":\"LinearAxis\"},{\"attributes\":{\"fill_color\":{\"field\":\"color\"},\"line_color\":{\"field\":\"color\"},\"top\":{\"field\":\"y_axis\"},\"width\":{\"value\":0.9},\"x\":{\"field\":\"x_axis\"}},\"id\":\"19a8bb75-d7d2-41a1-9fe2-5bfce66a2bfb\",\"type\":\"VBar\"},{\"attributes\":{\"callback\":null,\"end\":0.8883484575239824},\"id\":\"a0cc2219-416b-4aca-845f-a3959f4d19d0\",\"type\":\"Range1d\"},{\"attributes\":{\"items\":[{\"id\":\"3721bd3b-f7cd-4234-852e-680ff1ea76d7\",\"type\":\"LegendItem\"}],\"location\":\"top_center\",\"orientation\":\"horizontal\",\"plot\":{\"id\":\"a2a9fb1d-09dd-4566-a950-4dd892637b51\",\"subtype\":\"Figure\",\"type\":\"Plot\"}},\"id\":\"3d3a33cd-10be-4712-8174-8e34d1304c7c\",\"type\":\"Legend\"},{\"attributes\":{\"active_drag\":\"auto\",\"active_inspect\":\"auto\",\"active_scroll\":\"auto\",\"active_tap\":\"auto\",\"tools\":[{\"id\":\"947bd5a0-3546-4646-a470-0e9be35dd2fb\",\"type\":\"HoverTool\"},{\"id\":\"13ef7905-4ea9-44e9-9370-5024ccbae81a\",\"type\":\"LassoSelectTool\"},{\"id\":\"2504d04a-bf41-4522-a92e-14368245d559\",\"type\":\"WheelZoomTool\"}]},\"id\":\"38e04172-057e-4f68-a55b-cf0b69f0ac96\",\"type\":\"Toolbar\"},{\"attributes\":{},\"id\":\"366d8bc4-8211-4781-961c-87c38055423c\",\"type\":\"CategoricalScale\"},{\"attributes\":{\"callback\":null,\"factors\":[\"0.5 km2\",\"1 km2\",\"2 km2\"]},\"id\":\"797fbb35-ccbb-4f5d-a5dd-a5bae58e0107\",\"type\":\"FactorRange\"},{\"attributes\":{\"data_source\":{\"id\":\"abdfbabe-2658-4684-94e9-25663c6b4c9f\",\"type\":\"ColumnDataSource\"},\"glyph\":{\"id\":\"19a8bb75-d7d2-41a1-9fe2-5bfce66a2bfb\",\"type\":\"VBar\"},\"hover_glyph\":null,\"muted_glyph\":null,\"nonselection_glyph\":{\"id\":\"22d481af-6e0c-42a0-934f-081426a433cf\",\"type\":\"VBar\"},\"selection_glyph\":null,\"view\":{\"id\":\"4d96415a-4829-42e1-afc1-06abef42e9d5\",\"type\":\"CDSView\"}},\"id\":\"a1996a0c-454f-450f-97ac-90369878df3c\",\"type\":\"GlyphRenderer\"},{\"attributes\":{\"dimension\":1,\"plot\":{\"id\":\"a2a9fb1d-09dd-4566-a950-4dd892637b51\",\"subtype\":\"Figure\",\"type\":\"Plot\"},\"ticker\":{\"id\":\"b31939ad-b067-4e77-95c0-b81fce9b5c53\",\"type\":\"BasicTicker\"}},\"id\":\"05158b2d-42ef-4930-83b7-49db7781af25\",\"type\":\"Grid\"},{\"attributes\":{},\"id\":\"b31939ad-b067-4e77-95c0-b81fce9b5c53\",\"type\":\"BasicTicker\"},{\"attributes\":{},\"id\":\"2504d04a-bf41-4522-a92e-14368245d559\",\"type\":\"WheelZoomTool\"},{\"attributes\":{\"fill_alpha\":{\"value\":0.5},\"fill_color\":{\"value\":\"lightgrey\"},\"level\":\"overlay\",\"line_alpha\":{\"value\":1.0},\"line_color\":{\"value\":\"black\"},\"line_dash\":[4,4],\"line_width\":{\"value\":2},\"plot\":null,\"xs_units\":\"screen\",\"ys_units\":\"screen\"},\"id\":\"5c76ca2b-ebbc-41ff-9c7e-112ce11bb90c\",\"type\":\"PolyAnnotation\"},{\"attributes\":{\"label\":{\"field\":\"x_axis\"},\"renderers\":[{\"id\":\"a1996a0c-454f-450f-97ac-90369878df3c\",\"type\":\"GlyphRenderer\"}]},\"id\":\"3721bd3b-f7cd-4234-852e-680ff1ea76d7\",\"type\":\"LegendItem\"},{\"attributes\":{\"fill_alpha\":{\"value\":0.1},\"fill_color\":{\"value\":\"#1f77b4\"},\"line_alpha\":{\"value\":0.1},\"line_color\":{\"value\":\"#1f77b4\"},\"top\":{\"field\":\"y_axis\"},\"width\":{\"value\":0.9},\"x\":{\"field\":\"x_axis\"}},\"id\":\"22d481af-6e0c-42a0-934f-081426a433cf\",\"type\":\"VBar\"},{\"attributes\":{\"callback\":null,\"column_names\":[\"x_axis\",\"y_axis\",\"color\"],\"data\":{\"color\":[\"#99d594\",\"#ffffbf\",\"#fc8d59\"],\"x_axis\":[\"0.5 km2\",\"1 km2\",\"2 km2\"],\"y_axis\":[0.36154051610488924,0.6341108419488903,0.807589506839984]}},\"id\":\"abdfbabe-2658-4684-94e9-25663c6b4c9f\",\"type\":\"ColumnDataSource\"},{\"attributes\":{},\"id\":\"560ac2de-25e7-4d52-ac2d-1f79a874f5f7\",\"type\":\"BasicTickFormatter\"}],\"root_ids\":[\"a2a9fb1d-09dd-4566-a950-4dd892637b51\"]},\"title\":\"Bokeh Application\",\"version\":\"0.12.14\"}};\n",
       "  var render_items = [{\"docid\":\"7520509d-d16f-411f-9225-c69c75816d4b\",\"elementid\":\"3472c1ab-d2d8-4cad-99ea-2f1c3ce88c5c\",\"modelid\":\"a2a9fb1d-09dd-4566-a950-4dd892637b51\"}];\n",
       "  root.Bokeh.embed.embed_items_notebook(docs_json, render_items);\n",
       "\n",
       "  }\n",
       "  if (root.Bokeh !== undefined) {\n",
       "    embed_document(root);\n",
       "  } else {\n",
       "    var attempts = 0;\n",
       "    var timer = setInterval(function(root) {\n",
       "      if (root.Bokeh !== undefined) {\n",
       "        embed_document(root);\n",
       "        clearInterval(timer);\n",
       "      }\n",
       "      attempts++;\n",
       "      if (attempts > 100) {\n",
       "        console.log(\"Bokeh: ERROR: Unable to run BokehJS code because BokehJS library is missing\")\n",
       "        clearInterval(timer);\n",
       "      }\n",
       "    }, 10, root)\n",
       "  }\n",
       "})(window);"
      ],
      "application/vnd.bokehjs_exec.v0+json": ""
     },
     "metadata": {
      "application/vnd.bokehjs_exec.v0+json": {
       "id": "a2a9fb1d-09dd-4566-a950-4dd892637b51"
      }
     },
     "output_type": "display_data"
    }
   ],
   "source": [
    "# Show that sexy graph\n",
    "show(p)"
   ]
  },
  {
   "cell_type": "code",
   "execution_count": null,
   "metadata": {},
   "outputs": [],
   "source": [
    "interact(update, f=[\"sin\", \"cos\", \"tan\"], w=(0,100), A=(1,5), phi=(0, 20, 0.1))"
   ]
  },
  {
   "cell_type": "code",
   "execution_count": 24,
   "metadata": {},
   "outputs": [],
   "source": [
    "from __future__ import print_function\n",
    "from ipywidgets import interact, interactive, fixed, interact_manual\n",
    "import ipywidgets as widgets"
   ]
  },
  {
   "cell_type": "code",
   "execution_count": 25,
   "metadata": {},
   "outputs": [],
   "source": [
    "def f(x):\n",
    "    return x"
   ]
  },
  {
   "cell_type": "code",
   "execution_count": 30,
   "metadata": {},
   "outputs": [
    {
     "data": {
      "text/plain": [
       "10"
      ]
     },
     "metadata": {},
     "output_type": "display_data"
    }
   ],
   "source": [
    "interact(f, x=10);\n",
    "?? interact"
   ]
  },
  {
   "cell_type": "code",
   "execution_count": 28,
   "metadata": {},
   "outputs": [
    {
     "data": {
      "text/plain": [
       "(True, 1.0)"
      ]
     },
     "metadata": {},
     "output_type": "display_data"
    }
   ],
   "source": [
    "@interact(x=True, y=1.0)\n",
    "def g(x, y):\n",
    "    return (x, y)"
   ]
  },
  {
   "cell_type": "code",
   "execution_count": null,
   "metadata": {},
   "outputs": [],
   "source": []
  }
 ],
 "metadata": {
  "kernelspec": {
   "display_name": "Python 3",
   "language": "python",
   "name": "python3"
  },
  "language_info": {
   "codemirror_mode": {
    "name": "ipython",
    "version": 3
   },
   "file_extension": ".py",
   "mimetype": "text/x-python",
   "name": "python",
   "nbconvert_exporter": "python",
   "pygments_lexer": "ipython3",
   "version": "3.6.3"
  }
 },
 "nbformat": 4,
 "nbformat_minor": 2
}
